{
 "cells": [
  {
   "cell_type": "markdown",
   "id": "0e89b573-d146-43a3-9f17-ffc1fc93a4ef",
   "metadata": {},
   "source": [
    "## Ropes vs. Kirkland"
   ]
  },
  {
   "cell_type": "markdown",
   "id": "0d02cc95-efc5-415b-b5d9-241d14ae19c8",
   "metadata": {},
   "source": [
    "### Check Kirkland Distribution"
   ]
  },
  {
   "cell_type": "code",
   "execution_count": 1,
   "id": "53d782e0-e38d-46a2-b50b-cfe0b9c4bb3b",
   "metadata": {},
   "outputs": [
    {
     "data": {
      "text/html": [
       "<div>\n",
       "<style scoped>\n",
       "    .dataframe tbody tr th:only-of-type {\n",
       "        vertical-align: middle;\n",
       "    }\n",
       "\n",
       "    .dataframe tbody tr th {\n",
       "        vertical-align: top;\n",
       "    }\n",
       "\n",
       "    .dataframe thead th {\n",
       "        text-align: right;\n",
       "    }\n",
       "</style>\n",
       "<table border=\"1\" class=\"dataframe\">\n",
       "  <thead>\n",
       "    <tr style=\"text-align: right;\">\n",
       "      <th></th>\n",
       "      <th>name</th>\n",
       "      <th>departments/0/rankingDescription</th>\n",
       "    </tr>\n",
       "  </thead>\n",
       "  <tbody>\n",
       "    <tr>\n",
       "      <th>0</th>\n",
       "      <td>Damian Jacobs</td>\n",
       "      <td>Band 4</td>\n",
       "    </tr>\n",
       "    <tr>\n",
       "      <th>1</th>\n",
       "      <td>Damian Jacobs</td>\n",
       "      <td>Band 4</td>\n",
       "    </tr>\n",
       "    <tr>\n",
       "      <th>2</th>\n",
       "      <td>Noah Stewart-Ornstein</td>\n",
       "      <td>Associates to watch</td>\n",
       "    </tr>\n",
       "    <tr>\n",
       "      <th>3</th>\n",
       "      <td>Nicole Washington</td>\n",
       "      <td>Up and Coming</td>\n",
       "    </tr>\n",
       "    <tr>\n",
       "      <th>4</th>\n",
       "      <td>Aaron H Marks</td>\n",
       "      <td>Band 3</td>\n",
       "    </tr>\n",
       "  </tbody>\n",
       "</table>\n",
       "</div>"
      ],
      "text/plain": [
       "                    name departments/0/rankingDescription\n",
       "0          Damian Jacobs                           Band 4\n",
       "1          Damian Jacobs                           Band 4\n",
       "2  Noah Stewart-Ornstein              Associates to watch\n",
       "3      Nicole Washington                    Up and Coming\n",
       "4          Aaron H Marks                           Band 3"
      ]
     },
     "execution_count": 1,
     "metadata": {},
     "output_type": "execute_result"
    }
   ],
   "source": [
    "import pandas as pd\n",
    "import json\n",
    "\n",
    "ke = pd.read_csv ('../data/Kirkland & Ellis/chambers_reviews_kirkland_ellis.csv')\n",
    "ke.head()[['name', 'departments/0/rankingDescription']]"
   ]
  },
  {
   "cell_type": "code",
   "execution_count": 2,
   "id": "25788ffd-b0b6-4aef-9dcb-45b44452698a",
   "metadata": {},
   "outputs": [
    {
     "data": {
      "text/plain": [
       "Index(['publicationTypeId', 'publicationTypeGroupId',\n",
       "       'publicationTypeDescription', 'departments/0/isDepartmentRanked',\n",
       "       'departments/0/description', 'departments/0/rankingDescription',\n",
       "       'departments/0/parentOrganisationId', 'departments/0/organisationName',\n",
       "       'departments/0/practiceAreaDescription',\n",
       "       'departments/0/locationDescription', 'departments/0/practiceAreaId',\n",
       "       'departments/0/subsectionTypeId', 'departments/0/locationId',\n",
       "       'departments/0/organisationId',\n",
       "       'departments/0/reviewContent/0/content/0',\n",
       "       'departments/0/reviewContent/0/description', 'personOrganisationId',\n",
       "       'name', 'image', 'departments/1/isDepartmentRanked',\n",
       "       'departments/1/description', 'departments/1/rankingDescription',\n",
       "       'departments/1/parentOrganisationId', 'departments/1/organisationName',\n",
       "       'departments/1/practiceAreaDescription',\n",
       "       'departments/1/locationDescription', 'departments/1/practiceAreaId',\n",
       "       'departments/1/subsectionTypeId', 'departments/1/locationId',\n",
       "       'departments/1/organisationId',\n",
       "       'departments/1/reviewContent/0/content/0',\n",
       "       'departments/1/reviewContent/0/description',\n",
       "       'departments/2/isDepartmentRanked', 'departments/2/description',\n",
       "       'departments/2/rankingDescription',\n",
       "       'departments/2/parentOrganisationId', 'departments/2/organisationName',\n",
       "       'departments/2/practiceAreaDescription',\n",
       "       'departments/2/locationDescription', 'departments/2/practiceAreaId',\n",
       "       'departments/2/subsectionTypeId', 'departments/2/locationId',\n",
       "       'departments/2/organisationId',\n",
       "       'departments/2/reviewContent/0/content/0',\n",
       "       'departments/2/reviewContent/0/description',\n",
       "       'departments/3/isDepartmentRanked', 'departments/3/description',\n",
       "       'departments/3/rankingDescription',\n",
       "       'departments/3/parentOrganisationId', 'departments/3/organisationName',\n",
       "       'departments/3/practiceAreaDescription',\n",
       "       'departments/3/locationDescription', 'departments/3/practiceAreaId',\n",
       "       'departments/3/subsectionTypeId', 'departments/3/locationId',\n",
       "       'departments/3/organisationId',\n",
       "       'departments/3/reviewContent/0/content/0',\n",
       "       'departments/3/reviewContent/0/description',\n",
       "       'foreignExpertiseDepartments/0/isDepartmentRanked',\n",
       "       'foreignExpertiseDepartments/0/description',\n",
       "       'foreignExpertiseDepartments/0/rankingDescription',\n",
       "       'foreignExpertiseDepartments/0/parentOrganisationId',\n",
       "       'foreignExpertiseDepartments/0/organisationName',\n",
       "       'foreignExpertiseDepartments/0/practiceAreaDescription',\n",
       "       'foreignExpertiseDepartments/0/locationDescription',\n",
       "       'foreignExpertiseDepartments/0/practiceAreaId',\n",
       "       'foreignExpertiseDepartments/0/subsectionTypeId',\n",
       "       'foreignExpertiseDepartments/0/locationId',\n",
       "       'foreignExpertiseDepartments/0/organisationId',\n",
       "       'foreignExpertiseDepartments/0/reviewContent/0/content/0',\n",
       "       'foreignExpertiseDepartments/0/reviewContent/0/description',\n",
       "       'departments/0/reviewContent/0/content/1',\n",
       "       'departments/1/reviewContent/1/content/0',\n",
       "       'departments/1/reviewContent/1/description',\n",
       "       'expertiseBasedAbroadDepartments/0/isDepartmentRanked',\n",
       "       'expertiseBasedAbroadDepartments/0/description',\n",
       "       'expertiseBasedAbroadDepartments/0/rankingDescription',\n",
       "       'expertiseBasedAbroadDepartments/0/parentOrganisationId',\n",
       "       'expertiseBasedAbroadDepartments/0/organisationName',\n",
       "       'expertiseBasedAbroadDepartments/0/practiceAreaDescription',\n",
       "       'expertiseBasedAbroadDepartments/0/locationDescription',\n",
       "       'expertiseBasedAbroadDepartments/0/practiceAreaId',\n",
       "       'expertiseBasedAbroadDepartments/0/subsectionTypeId',\n",
       "       'expertiseBasedAbroadDepartments/0/locationId',\n",
       "       'expertiseBasedAbroadDepartments/0/organisationId',\n",
       "       'expertiseBasedAbroadDepartments/0/reviewContent/0/content/0',\n",
       "       'expertiseBasedAbroadDepartments/0/reviewContent/0/description',\n",
       "       'foreignExpertiseDepartments/1/isDepartmentRanked',\n",
       "       'foreignExpertiseDepartments/1/description',\n",
       "       'foreignExpertiseDepartments/1/rankingDescription',\n",
       "       'foreignExpertiseDepartments/1/parentOrganisationId',\n",
       "       'foreignExpertiseDepartments/1/organisationName',\n",
       "       'foreignExpertiseDepartments/1/practiceAreaDescription',\n",
       "       'foreignExpertiseDepartments/1/locationDescription',\n",
       "       'foreignExpertiseDepartments/1/practiceAreaId',\n",
       "       'foreignExpertiseDepartments/1/subsectionTypeId',\n",
       "       'foreignExpertiseDepartments/1/locationId',\n",
       "       'foreignExpertiseDepartments/1/organisationId',\n",
       "       'foreignExpertiseDepartments/1/reviewContent/0/content/0',\n",
       "       'foreignExpertiseDepartments/1/reviewContent/0/description'],\n",
       "      dtype='object')"
      ]
     },
     "execution_count": 2,
     "metadata": {},
     "output_type": "execute_result"
    }
   ],
   "source": [
    "ke.columns"
   ]
  },
  {
   "cell_type": "code",
   "execution_count": 3,
   "id": "2cf85c0e-5397-4eb5-9e79-1f8142929938",
   "metadata": {},
   "outputs": [
    {
     "data": {
      "text/plain": [
       "array(['Band 4', 'Associates to watch', 'Up and Coming', 'Band 3',\n",
       "       'Band 5', 'Band 1', 'Band 2', 'Eminent Practitioners', 'Band 6',\n",
       "       'Star Associates', 'Senior Statespeople', nan, 'Star Individuals',\n",
       "       'Spotlight Table'], dtype=object)"
      ]
     },
     "execution_count": 3,
     "metadata": {},
     "output_type": "execute_result"
    }
   ],
   "source": [
    "ke[\"departments/0/rankingDescription\"].unique()"
   ]
  },
  {
   "cell_type": "code",
   "execution_count": 4,
   "id": "238f9523-a7d7-4371-81f1-ab984b247a8f",
   "metadata": {},
   "outputs": [
    {
     "data": {
      "text/html": [
       "<div>\n",
       "<style scoped>\n",
       "    .dataframe tbody tr th:only-of-type {\n",
       "        vertical-align: middle;\n",
       "    }\n",
       "\n",
       "    .dataframe tbody tr th {\n",
       "        vertical-align: top;\n",
       "    }\n",
       "\n",
       "    .dataframe thead th {\n",
       "        text-align: right;\n",
       "    }\n",
       "</style>\n",
       "<table border=\"1\" class=\"dataframe\">\n",
       "  <thead>\n",
       "    <tr style=\"text-align: right;\">\n",
       "      <th></th>\n",
       "      <th>name</th>\n",
       "      <th>departments/0/rankingDescription</th>\n",
       "      <th>departments/0/isDepartmentRanked</th>\n",
       "    </tr>\n",
       "  </thead>\n",
       "  <tbody>\n",
       "    <tr>\n",
       "      <th>192</th>\n",
       "      <td>Leo Plank</td>\n",
       "      <td>NaN</td>\n",
       "      <td>NaN</td>\n",
       "    </tr>\n",
       "    <tr>\n",
       "      <th>199</th>\n",
       "      <td>Louis Rabinowitz</td>\n",
       "      <td>NaN</td>\n",
       "      <td>NaN</td>\n",
       "    </tr>\n",
       "    <tr>\n",
       "      <th>200</th>\n",
       "      <td>Louis Rabinowitz</td>\n",
       "      <td>NaN</td>\n",
       "      <td>NaN</td>\n",
       "    </tr>\n",
       "    <tr>\n",
       "      <th>224</th>\n",
       "      <td>Matthew Merkle</td>\n",
       "      <td>NaN</td>\n",
       "      <td>NaN</td>\n",
       "    </tr>\n",
       "    <tr>\n",
       "      <th>348</th>\n",
       "      <td>Srinivas Kaushik</td>\n",
       "      <td>NaN</td>\n",
       "      <td>NaN</td>\n",
       "    </tr>\n",
       "    <tr>\n",
       "      <th>349</th>\n",
       "      <td>Srinivas Kaushik</td>\n",
       "      <td>NaN</td>\n",
       "      <td>NaN</td>\n",
       "    </tr>\n",
       "    <tr>\n",
       "      <th>378</th>\n",
       "      <td>William R Burke</td>\n",
       "      <td>NaN</td>\n",
       "      <td>NaN</td>\n",
       "    </tr>\n",
       "  </tbody>\n",
       "</table>\n",
       "</div>"
      ],
      "text/plain": [
       "                 name departments/0/rankingDescription  \\\n",
       "192         Leo Plank                              NaN   \n",
       "199  Louis Rabinowitz                              NaN   \n",
       "200  Louis Rabinowitz                              NaN   \n",
       "224    Matthew Merkle                              NaN   \n",
       "348  Srinivas Kaushik                              NaN   \n",
       "349  Srinivas Kaushik                              NaN   \n",
       "378   William R Burke                              NaN   \n",
       "\n",
       "    departments/0/isDepartmentRanked  \n",
       "192                              NaN  \n",
       "199                              NaN  \n",
       "200                              NaN  \n",
       "224                              NaN  \n",
       "348                              NaN  \n",
       "349                              NaN  \n",
       "378                              NaN  "
      ]
     },
     "execution_count": 4,
     "metadata": {},
     "output_type": "execute_result"
    }
   ],
   "source": [
    "ke[ke['departments/0/rankingDescription'].isna()][['name', 'departments/0/rankingDescription', 'departments/0/isDepartmentRanked']]\n",
    "\n",
    "# I checked chambers and these people are all ranked. So I may have pulled data wrong\n",
    "# I need to check my work and poke around before we deliver anything related to this"
   ]
  },
  {
   "cell_type": "code",
   "execution_count": 5,
   "id": "d6e7ea12-9156-47a5-bfe5-a3c6545e2841",
   "metadata": {},
   "outputs": [
    {
     "data": {
      "text/plain": [
       "<AxesSubplot:title={'center':'Kirkland'}>"
      ]
     },
     "execution_count": 5,
     "metadata": {},
     "output_type": "execute_result"
    },
    {
     "data": {
      "image/png": "[encoded data removed]",
      "text/plain": [
       "<Figure size 432x288 with 1 Axes>"
      ]
     },
     "metadata": {
      "needs_background": "light"
     },
     "output_type": "display_data"
    }
   ],
   "source": [
    "order = ['Associates to watch', 'Up and Coming', 'Band 6', 'Band 5', 'Band 4', 'Band 3', 'Band 2', 'Band 1', 'Star Individuals', 'Eminent Practitioners', 'Senior Statespeople' 'Spotlight Table']\n",
    "# Not sure on this ordering -- need to double check\n",
    "ke[\"departments/0/rankingDescription\"].value_counts().reindex(order).plot(kind=\"bar\", title=\"Kirkland\")"
   ]
  },
  {
   "cell_type": "code",
   "execution_count": 6,
   "id": "c86bdf7b-3676-47b7-a2df-56bd4db3d036",
   "metadata": {},
   "outputs": [
    {
     "data": {
      "text/plain": [
       "array(['Kirkland & Ellis', 'Kirkland & Ellis International LLP',\n",
       "       'Kirkland & Ellis LLP', 'Goodwin', nan, 'Clement & Murphy, PLLC',\n",
       "       'Sidley Austin LLP'], dtype=object)"
      ]
     },
     "execution_count": 6,
     "metadata": {},
     "output_type": "execute_result"
    }
   ],
   "source": [
    "ke['departments/0/organisationName'].unique()\n",
    "# this is super weird, I probably need to do more data checks & data cleaning here"
   ]
  },
  {
   "cell_type": "code",
   "execution_count": 7,
   "id": "3620f210-2483-4799-a809-e3f4213338a0",
   "metadata": {},
   "outputs": [
    {
     "data": {
      "text/html": [
       "<div>\n",
       "<style scoped>\n",
       "    .dataframe tbody tr th:only-of-type {\n",
       "        vertical-align: middle;\n",
       "    }\n",
       "\n",
       "    .dataframe tbody tr th {\n",
       "        vertical-align: top;\n",
       "    }\n",
       "\n",
       "    .dataframe thead th {\n",
       "        text-align: right;\n",
       "    }\n",
       "</style>\n",
       "<table border=\"1\" class=\"dataframe\">\n",
       "  <thead>\n",
       "    <tr style=\"text-align: right;\">\n",
       "      <th></th>\n",
       "      <th>Rank</th>\n",
       "      <th>ke_counts</th>\n",
       "      <th>ke_percent</th>\n",
       "    </tr>\n",
       "  </thead>\n",
       "  <tbody>\n",
       "    <tr>\n",
       "      <th>0</th>\n",
       "      <td>Band 4</td>\n",
       "      <td>76</td>\n",
       "      <td>2.512397</td>\n",
       "    </tr>\n",
       "    <tr>\n",
       "      <th>1</th>\n",
       "      <td>Associates to watch</td>\n",
       "      <td>3</td>\n",
       "      <td>0.099174</td>\n",
       "    </tr>\n",
       "    <tr>\n",
       "      <th>2</th>\n",
       "      <td>Up and Coming</td>\n",
       "      <td>64</td>\n",
       "      <td>2.115702</td>\n",
       "    </tr>\n",
       "    <tr>\n",
       "      <th>3</th>\n",
       "      <td>Band 3</td>\n",
       "      <td>97</td>\n",
       "      <td>3.206612</td>\n",
       "    </tr>\n",
       "    <tr>\n",
       "      <th>4</th>\n",
       "      <td>Band 5</td>\n",
       "      <td>22</td>\n",
       "      <td>0.727273</td>\n",
       "    </tr>\n",
       "    <tr>\n",
       "      <th>5</th>\n",
       "      <td>Band 1</td>\n",
       "      <td>75</td>\n",
       "      <td>2.479339</td>\n",
       "    </tr>\n",
       "    <tr>\n",
       "      <th>6</th>\n",
       "      <td>Band 2</td>\n",
       "      <td>83</td>\n",
       "      <td>2.743802</td>\n",
       "    </tr>\n",
       "    <tr>\n",
       "      <th>7</th>\n",
       "      <td>Eminent Practitioners</td>\n",
       "      <td>5</td>\n",
       "      <td>0.165289</td>\n",
       "    </tr>\n",
       "    <tr>\n",
       "      <th>8</th>\n",
       "      <td>Band 6</td>\n",
       "      <td>8</td>\n",
       "      <td>0.264463</td>\n",
       "    </tr>\n",
       "    <tr>\n",
       "      <th>9</th>\n",
       "      <td>Star Associates</td>\n",
       "      <td>1</td>\n",
       "      <td>0.033058</td>\n",
       "    </tr>\n",
       "    <tr>\n",
       "      <th>10</th>\n",
       "      <td>Senior Statespeople</td>\n",
       "      <td>9</td>\n",
       "      <td>0.297521</td>\n",
       "    </tr>\n",
       "    <tr>\n",
       "      <th>11</th>\n",
       "      <td>Star Individuals</td>\n",
       "      <td>1</td>\n",
       "      <td>0.033058</td>\n",
       "    </tr>\n",
       "    <tr>\n",
       "      <th>12</th>\n",
       "      <td>Spotlight Table</td>\n",
       "      <td>1</td>\n",
       "      <td>0.033058</td>\n",
       "    </tr>\n",
       "  </tbody>\n",
       "</table>\n",
       "</div>"
      ],
      "text/plain": [
       "                     Rank  ke_counts  ke_percent\n",
       "0                  Band 4         76    2.512397\n",
       "1     Associates to watch          3    0.099174\n",
       "2           Up and Coming         64    2.115702\n",
       "3                  Band 3         97    3.206612\n",
       "4                  Band 5         22    0.727273\n",
       "5                  Band 1         75    2.479339\n",
       "6                  Band 2         83    2.743802\n",
       "7   Eminent Practitioners          5    0.165289\n",
       "8                  Band 6          8    0.264463\n",
       "9         Star Associates          1    0.033058\n",
       "10    Senior Statespeople          9    0.297521\n",
       "11       Star Individuals          1    0.033058\n",
       "12        Spotlight Table          1    0.033058"
      ]
     },
     "execution_count": 7,
     "metadata": {},
     "output_type": "execute_result"
    }
   ],
   "source": [
    "ke_counts = ke[\"departments/0/rankingDescription\"].value_counts(sort=False).rename_axis('Rank').reset_index(name='ke_counts')\n",
    "total_lawyers_ke = 3025 # have Daniel check this -- this was just a quick Google\n",
    "ke_counts[\"ke_percent\"] = (ke_counts[\"ke_counts\"] / total_lawyers_ke) * 100\n",
    "ke_counts"
   ]
  },
  {
   "cell_type": "markdown",
   "id": "f0c0fd0b-47e8-4121-8d0d-76bbd78ccb5c",
   "metadata": {},
   "source": [
    "### Compare Kirkland vs. Ropes"
   ]
  },
  {
   "cell_type": "code",
   "execution_count": 8,
   "id": "2c7dfa8c-71f5-4fa1-afb7-9c247ef60ca7",
   "metadata": {},
   "outputs": [
    {
     "data": {
      "text/html": [
       "<div>\n",
       "<style scoped>\n",
       "    .dataframe tbody tr th:only-of-type {\n",
       "        vertical-align: middle;\n",
       "    }\n",
       "\n",
       "    .dataframe tbody tr th {\n",
       "        vertical-align: top;\n",
       "    }\n",
       "\n",
       "    .dataframe thead th {\n",
       "        text-align: right;\n",
       "    }\n",
       "</style>\n",
       "<table border=\"1\" class=\"dataframe\">\n",
       "  <thead>\n",
       "    <tr style=\"text-align: right;\">\n",
       "      <th></th>\n",
       "      <th>Rank</th>\n",
       "      <th>rg_counts</th>\n",
       "      <th>rg_percent</th>\n",
       "    </tr>\n",
       "  </thead>\n",
       "  <tbody>\n",
       "    <tr>\n",
       "      <th>0</th>\n",
       "      <td>Up and Coming</td>\n",
       "      <td>21</td>\n",
       "      <td>1.530612</td>\n",
       "    </tr>\n",
       "    <tr>\n",
       "      <th>1</th>\n",
       "      <td>Band 3</td>\n",
       "      <td>42</td>\n",
       "      <td>3.061224</td>\n",
       "    </tr>\n",
       "    <tr>\n",
       "      <th>2</th>\n",
       "      <td>Band 4</td>\n",
       "      <td>46</td>\n",
       "      <td>3.352770</td>\n",
       "    </tr>\n",
       "    <tr>\n",
       "      <th>3</th>\n",
       "      <td>Band 2</td>\n",
       "      <td>55</td>\n",
       "      <td>4.008746</td>\n",
       "    </tr>\n",
       "    <tr>\n",
       "      <th>4</th>\n",
       "      <td>Band 5</td>\n",
       "      <td>17</td>\n",
       "      <td>1.239067</td>\n",
       "    </tr>\n",
       "    <tr>\n",
       "      <th>5</th>\n",
       "      <td>Band 1</td>\n",
       "      <td>31</td>\n",
       "      <td>2.259475</td>\n",
       "    </tr>\n",
       "    <tr>\n",
       "      <th>6</th>\n",
       "      <td>Eminent Practitioners</td>\n",
       "      <td>3</td>\n",
       "      <td>0.218659</td>\n",
       "    </tr>\n",
       "    <tr>\n",
       "      <th>7</th>\n",
       "      <td>Spotlight Table</td>\n",
       "      <td>2</td>\n",
       "      <td>0.145773</td>\n",
       "    </tr>\n",
       "    <tr>\n",
       "      <th>8</th>\n",
       "      <td>Star Individuals</td>\n",
       "      <td>1</td>\n",
       "      <td>0.072886</td>\n",
       "    </tr>\n",
       "    <tr>\n",
       "      <th>9</th>\n",
       "      <td>Band 6</td>\n",
       "      <td>1</td>\n",
       "      <td>0.072886</td>\n",
       "    </tr>\n",
       "  </tbody>\n",
       "</table>\n",
       "</div>"
      ],
      "text/plain": [
       "                    Rank  rg_counts  rg_percent\n",
       "0          Up and Coming         21    1.530612\n",
       "1                 Band 3         42    3.061224\n",
       "2                 Band 4         46    3.352770\n",
       "3                 Band 2         55    4.008746\n",
       "4                 Band 5         17    1.239067\n",
       "5                 Band 1         31    2.259475\n",
       "6  Eminent Practitioners          3    0.218659\n",
       "7        Spotlight Table          2    0.145773\n",
       "8       Star Individuals          1    0.072886\n",
       "9                 Band 6          1    0.072886"
      ]
     },
     "execution_count": 8,
     "metadata": {},
     "output_type": "execute_result"
    }
   ],
   "source": [
    "rg = pd.read_csv('../data/Ropes & Gray/chambers_reviews_ropesandgray.csv')\n",
    "rg_counts = rg[\"departments/0/rankingDescription\"].value_counts(sort=False).rename_axis('Rank').reset_index(name='rg_counts')\n",
    "total_partners_rg = 317 # verified by Daniel # can verify via the firm's website\n",
    "total_lawyers_rg = 1372 # have Daniel check this -- this was just a quick Google\n",
    "rg_counts[\"rg_percent\"] = (rg_counts[\"rg_counts\"] / total_lawyers_rg) * 100\n",
    "rg_counts"
   ]
  },
  {
   "cell_type": "code",
   "execution_count": 9,
   "id": "4a7c4db6-f5cd-4992-a11d-c33e394814cb",
   "metadata": {},
   "outputs": [
    {
     "data": {
      "text/plain": [
       "<AxesSubplot:xlabel='Rank'>"
      ]
     },
     "execution_count": 9,
     "metadata": {},
     "output_type": "execute_result"
    },
    {
     "data": {
      "image/png": "[encoded data removed]",
      "text/plain": [
       "<Figure size 1440x720 with 1 Axes>"
      ]
     },
     "metadata": {
      "needs_background": "light"
     },
     "output_type": "display_data"
    }
   ],
   "source": [
    "ke_counts.plot.bar(x='Rank', y='ke_percent', rot=0, figsize=(20, 10))"
   ]
  },
  {
   "cell_type": "code",
   "execution_count": 24,
   "id": "ae703368-d29c-4595-aa83-c1a5f43334a0",
   "metadata": {},
   "outputs": [
    {
     "data": {
      "text/html": [
       "<div>\n",
       "<style scoped>\n",
       "    .dataframe tbody tr th:only-of-type {\n",
       "        vertical-align: middle;\n",
       "    }\n",
       "\n",
       "    .dataframe tbody tr th {\n",
       "        vertical-align: top;\n",
       "    }\n",
       "\n",
       "    .dataframe thead th {\n",
       "        text-align: right;\n",
       "    }\n",
       "</style>\n",
       "<table border=\"1\" class=\"dataframe\">\n",
       "  <thead>\n",
       "    <tr style=\"text-align: right;\">\n",
       "      <th></th>\n",
       "      <th>rg_counts</th>\n",
       "      <th>rg_percent</th>\n",
       "      <th>ke_counts</th>\n",
       "      <th>ke_percent</th>\n",
       "    </tr>\n",
       "    <tr>\n",
       "      <th>Rank</th>\n",
       "      <th></th>\n",
       "      <th></th>\n",
       "      <th></th>\n",
       "      <th></th>\n",
       "    </tr>\n",
       "  </thead>\n",
       "  <tbody>\n",
       "    <tr>\n",
       "      <th>Associates to watch</th>\n",
       "      <td>NaN</td>\n",
       "      <td>NaN</td>\n",
       "      <td>NaN</td>\n",
       "      <td>NaN</td>\n",
       "    </tr>\n",
       "    <tr>\n",
       "      <th>Up and Coming</th>\n",
       "      <td>21.0</td>\n",
       "      <td>1.530612</td>\n",
       "      <td>64.0</td>\n",
       "      <td>2.115702</td>\n",
       "    </tr>\n",
       "    <tr>\n",
       "      <th>Band 6</th>\n",
       "      <td>1.0</td>\n",
       "      <td>0.072886</td>\n",
       "      <td>8.0</td>\n",
       "      <td>0.264463</td>\n",
       "    </tr>\n",
       "    <tr>\n",
       "      <th>Band 5</th>\n",
       "      <td>17.0</td>\n",
       "      <td>1.239067</td>\n",
       "      <td>22.0</td>\n",
       "      <td>0.727273</td>\n",
       "    </tr>\n",
       "    <tr>\n",
       "      <th>Band 4</th>\n",
       "      <td>46.0</td>\n",
       "      <td>3.352770</td>\n",
       "      <td>76.0</td>\n",
       "      <td>2.512397</td>\n",
       "    </tr>\n",
       "    <tr>\n",
       "      <th>Band 3</th>\n",
       "      <td>42.0</td>\n",
       "      <td>3.061224</td>\n",
       "      <td>97.0</td>\n",
       "      <td>3.206612</td>\n",
       "    </tr>\n",
       "    <tr>\n",
       "      <th>Band 2</th>\n",
       "      <td>55.0</td>\n",
       "      <td>4.008746</td>\n",
       "      <td>83.0</td>\n",
       "      <td>2.743802</td>\n",
       "    </tr>\n",
       "    <tr>\n",
       "      <th>Band 1</th>\n",
       "      <td>31.0</td>\n",
       "      <td>2.259475</td>\n",
       "      <td>75.0</td>\n",
       "      <td>2.479339</td>\n",
       "    </tr>\n",
       "    <tr>\n",
       "      <th>Star Individuals</th>\n",
       "      <td>1.0</td>\n",
       "      <td>0.072886</td>\n",
       "      <td>1.0</td>\n",
       "      <td>0.033058</td>\n",
       "    </tr>\n",
       "    <tr>\n",
       "      <th>Eminent Practitioners</th>\n",
       "      <td>3.0</td>\n",
       "      <td>0.218659</td>\n",
       "      <td>5.0</td>\n",
       "      <td>0.165289</td>\n",
       "    </tr>\n",
       "    <tr>\n",
       "      <th>Senior StatespeopleSpotlight Table</th>\n",
       "      <td>NaN</td>\n",
       "      <td>NaN</td>\n",
       "      <td>NaN</td>\n",
       "      <td>NaN</td>\n",
       "    </tr>\n",
       "  </tbody>\n",
       "</table>\n",
       "</div>"
      ],
      "text/plain": [
       "                                    rg_counts  rg_percent  ke_counts  \\\n",
       "Rank                                                                   \n",
       "Associates to watch                       NaN         NaN        NaN   \n",
       "Up and Coming                            21.0    1.530612       64.0   \n",
       "Band 6                                    1.0    0.072886        8.0   \n",
       "Band 5                                   17.0    1.239067       22.0   \n",
       "Band 4                                   46.0    3.352770       76.0   \n",
       "Band 3                                   42.0    3.061224       97.0   \n",
       "Band 2                                   55.0    4.008746       83.0   \n",
       "Band 1                                   31.0    2.259475       75.0   \n",
       "Star Individuals                          1.0    0.072886        1.0   \n",
       "Eminent Practitioners                     3.0    0.218659        5.0   \n",
       "Senior StatespeopleSpotlight Table        NaN         NaN        NaN   \n",
       "\n",
       "                                    ke_percent  \n",
       "Rank                                            \n",
       "Associates to watch                        NaN  \n",
       "Up and Coming                         2.115702  \n",
       "Band 6                                0.264463  \n",
       "Band 5                                0.727273  \n",
       "Band 4                                2.512397  \n",
       "Band 3                                3.206612  \n",
       "Band 2                                2.743802  \n",
       "Band 1                                2.479339  \n",
       "Star Individuals                      0.033058  \n",
       "Eminent Practitioners                 0.165289  \n",
       "Senior StatespeopleSpotlight Table         NaN  "
      ]
     },
     "execution_count": 24,
     "metadata": {},
     "output_type": "execute_result"
    }
   ],
   "source": [
    "combined = rg_counts.merge(ke_counts, on=['Rank', 'Rank'])\n",
    "combined = combined.set_index('Rank')\n",
    "combined = combined.reindex(order)\n",
    "combined"
   ]
  },
  {
   "cell_type": "code",
   "execution_count": 28,
   "id": "60cc28c3-2c94-4c48-bc64-defaa9370a47",
   "metadata": {},
   "outputs": [
    {
     "data": {
      "text/plain": [
       "<matplotlib.legend.Legend at 0x7f95342e08e0>"
      ]
     },
     "execution_count": 28,
     "metadata": {},
     "output_type": "execute_result"
    },
    {
     "data": {
      "image/png": "[encoded data removed]",
      "text/plain": [
       "<Figure size 1440x720 with 1 Axes>"
      ]
     },
     "metadata": {
      "needs_background": "light"
     },
     "output_type": "display_data"
    }
   ],
   "source": [
    "plot = combined.plot.bar(y=['rg_percent', 'ke_percent'], figsize=(20, 10), title=\"Ropes & Gray VS. Kirkland & Ellis (% of staff that is ranked)\")\n",
    "plot.legend(['Ropes & Gray', 'Kirkland & Ellis'])\n"
   ]
  },
  {
   "cell_type": "code",
   "execution_count": null,
   "id": "46131bc5-5156-4019-ad50-8757ebd7f00d",
   "metadata": {},
   "outputs": [],
   "source": []
  }
 ],
 "metadata": {
  "kernelspec": {
   "display_name": "Python 3 (ipykernel)",
   "language": "python",
   "name": "python3"
  },
  "language_info": {
   "codemirror_mode": {
    "name": "ipython",
    "version": 3
   },
   "file_extension": ".py",
   "mimetype": "text/x-python",
   "name": "python",
   "nbconvert_exporter": "python",
   "pygments_lexer": "ipython3",
   "version": "3.9.12"
  }
 },
 "nbformat": 4,
 "nbformat_minor": 5
}
