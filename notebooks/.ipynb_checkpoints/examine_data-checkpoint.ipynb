{
 "cells": [
  {
   "cell_type": "code",
   "execution_count": 1,
   "id": "e72fe0ee-0a8d-4604-b6b9-4e2d242423e8",
   "metadata": {
    "tags": []
   },
   "outputs": [
    {
     "data": {
      "text/html": [
       "<div>\n",
       "<style scoped>\n",
       "    .dataframe tbody tr th:only-of-type {\n",
       "        vertical-align: middle;\n",
       "    }\n",
       "\n",
       "    .dataframe tbody tr th {\n",
       "        vertical-align: top;\n",
       "    }\n",
       "\n",
       "    .dataframe thead th {\n",
       "        text-align: right;\n",
       "    }\n",
       "</style>\n",
       "<table border=\"1\" class=\"dataframe\">\n",
       "  <thead>\n",
       "    <tr style=\"text-align: right;\">\n",
       "      <th></th>\n",
       "      <th>Unnamed: 0</th>\n",
       "      <th>publication_type_group_id</th>\n",
       "      <th>publication_type_group_description</th>\n",
       "      <th>facetedSearchId</th>\n",
       "      <th>rowType</th>\n",
       "      <th>organisationName</th>\n",
       "      <th>organisationId</th>\n",
       "      <th>organisationLocation</th>\n",
       "      <th>town</th>\n",
       "      <th>country</th>\n",
       "      <th>profilePictureUrl</th>\n",
       "      <th>hasPaidProfile</th>\n",
       "      <th>personOrganisationId</th>\n",
       "      <th>personName</th>\n",
       "    </tr>\n",
       "  </thead>\n",
       "  <tbody>\n",
       "    <tr>\n",
       "      <th>0</th>\n",
       "      <td>0</td>\n",
       "      <td>2</td>\n",
       "      <td>Global</td>\n",
       "      <td>7141</td>\n",
       "      <td>Firms</td>\n",
       "      <td>Allen &amp; Overy LLP</td>\n",
       "      <td>23263768</td>\n",
       "      <td>Undefined</td>\n",
       "      <td>Undefined</td>\n",
       "      <td>Undefined</td>\n",
       "      <td>NaN</td>\n",
       "      <td>False</td>\n",
       "      <td>NaN</td>\n",
       "      <td>NaN</td>\n",
       "    </tr>\n",
       "    <tr>\n",
       "      <th>1</th>\n",
       "      <td>1</td>\n",
       "      <td>2</td>\n",
       "      <td>Global</td>\n",
       "      <td>7248</td>\n",
       "      <td>Firms</td>\n",
       "      <td>Nati Simchony &amp; Co.</td>\n",
       "      <td>23249255</td>\n",
       "      <td>Undefined</td>\n",
       "      <td>Undefined</td>\n",
       "      <td>Undefined</td>\n",
       "      <td>NaN</td>\n",
       "      <td>False</td>\n",
       "      <td>NaN</td>\n",
       "      <td>NaN</td>\n",
       "    </tr>\n",
       "    <tr>\n",
       "      <th>2</th>\n",
       "      <td>2</td>\n",
       "      <td>7</td>\n",
       "      <td>Europe</td>\n",
       "      <td>12441</td>\n",
       "      <td>Firms</td>\n",
       "      <td>1,5 Advokatfirma AS</td>\n",
       "      <td>23292859</td>\n",
       "      <td>Lillehammer</td>\n",
       "      <td>Lillehammer</td>\n",
       "      <td>Norway</td>\n",
       "      <td>NaN</td>\n",
       "      <td>False</td>\n",
       "      <td>NaN</td>\n",
       "      <td>NaN</td>\n",
       "    </tr>\n",
       "    <tr>\n",
       "      <th>3</th>\n",
       "      <td>3</td>\n",
       "      <td>2</td>\n",
       "      <td>Global</td>\n",
       "      <td>3991</td>\n",
       "      <td>Firms</td>\n",
       "      <td>12 Wentworth Selborne Chambers</td>\n",
       "      <td>22597588</td>\n",
       "      <td>Sydney</td>\n",
       "      <td>Sydney</td>\n",
       "      <td>Australia</td>\n",
       "      <td>NaN</td>\n",
       "      <td>False</td>\n",
       "      <td>NaN</td>\n",
       "      <td>NaN</td>\n",
       "    </tr>\n",
       "    <tr>\n",
       "      <th>4</th>\n",
       "      <td>4</td>\n",
       "      <td>8</td>\n",
       "      <td>Asia-Pacific</td>\n",
       "      <td>3991</td>\n",
       "      <td>Firms</td>\n",
       "      <td>12 Wentworth Selborne Chambers</td>\n",
       "      <td>22597588</td>\n",
       "      <td>Sydney</td>\n",
       "      <td>Sydney</td>\n",
       "      <td>Australia</td>\n",
       "      <td>NaN</td>\n",
       "      <td>False</td>\n",
       "      <td>NaN</td>\n",
       "      <td>NaN</td>\n",
       "    </tr>\n",
       "  </tbody>\n",
       "</table>\n",
       "</div>"
      ],
      "text/plain": [
       "   Unnamed: 0  publication_type_group_id publication_type_group_description  \\\n",
       "0           0                          2                             Global   \n",
       "1           1                          2                             Global   \n",
       "2           2                          7                             Europe   \n",
       "3           3                          2                             Global   \n",
       "4           4                          8                       Asia-Pacific   \n",
       "\n",
       "   facetedSearchId rowType                organisationName  organisationId  \\\n",
       "0             7141   Firms               Allen & Overy LLP        23263768   \n",
       "1             7248   Firms             Nati Simchony & Co.        23249255   \n",
       "2            12441   Firms             1,5 Advokatfirma AS        23292859   \n",
       "3             3991   Firms  12 Wentworth Selborne Chambers        22597588   \n",
       "4             3991   Firms  12 Wentworth Selborne Chambers        22597588   \n",
       "\n",
       "  organisationLocation         town    country profilePictureUrl  \\\n",
       "0            Undefined    Undefined  Undefined               NaN   \n",
       "1            Undefined    Undefined  Undefined               NaN   \n",
       "2          Lillehammer  Lillehammer     Norway               NaN   \n",
       "3               Sydney       Sydney  Australia               NaN   \n",
       "4               Sydney       Sydney  Australia               NaN   \n",
       "\n",
       "   hasPaidProfile  personOrganisationId personName  \n",
       "0           False                   NaN        NaN  \n",
       "1           False                   NaN        NaN  \n",
       "2           False                   NaN        NaN  \n",
       "3           False                   NaN        NaN  \n",
       "4           False                   NaN        NaN  "
      ]
     },
     "execution_count": 1,
     "metadata": {},
     "output_type": "execute_result"
    }
   ],
   "source": [
    "import pandas as pd\n",
    "\n",
    "df = pd.read_csv ('../data/firms_clean.csv')\n",
    "df.head()"
   ]
  },
  {
   "cell_type": "code",
   "execution_count": 16,
   "id": "f758a9d1-1927-4fa8-bca0-56d43d90b03a",
   "metadata": {
    "tags": []
   },
   "outputs": [
    {
     "data": {
      "text/plain": [
       "Index(['Unnamed: 0', 'publication_type_group_id',\n",
       "       'publication_type_group_description', 'facetedSearchId', 'rowType',\n",
       "       'organisationName', 'organisationId', 'organisationLocation', 'town',\n",
       "       'country', 'profilePictureUrl', 'hasPaidProfile',\n",
       "       'personOrganisationId', 'personName'],\n",
       "      dtype='object')"
      ]
     },
     "execution_count": 16,
     "metadata": {},
     "output_type": "execute_result"
    }
   ],
   "source": [
    "df.columns"
   ]
  },
  {
   "cell_type": "code",
   "execution_count": 3,
   "id": "477a9979-390a-4a11-a5e7-13322b84d2f0",
   "metadata": {},
   "outputs": [
    {
     "data": {
      "text/plain": [
       "Lawyers               80716\n",
       "Firms                 15682\n",
       "Barristers             6994\n",
       "Advisor                 710\n",
       "Set                     581\n",
       "Other Institutions      378\n",
       "Law Firm Networks       165\n",
       "Name: rowType, dtype: int64"
      ]
     },
     "execution_count": 3,
     "metadata": {},
     "output_type": "execute_result"
    }
   ],
   "source": [
    "df.rowType.value_counts()"
   ]
  },
  {
   "cell_type": "code",
   "execution_count": 4,
   "id": "3c509cc5-13a6-41b8-a884-d802e218b880",
   "metadata": {},
   "outputs": [
    {
     "data": {
      "text/plain": [
       "13803"
      ]
     },
     "execution_count": 4,
     "metadata": {},
     "output_type": "execute_result"
    }
   ],
   "source": [
    "df.organisationName.nunique()"
   ]
  },
  {
   "cell_type": "code",
   "execution_count": 5,
   "id": "428f59bb-12c2-4047-8b3b-d9533a6d544b",
   "metadata": {},
   "outputs": [
    {
     "data": {
      "text/plain": [
       "208"
      ]
     },
     "execution_count": 5,
     "metadata": {},
     "output_type": "execute_result"
    }
   ],
   "source": [
    "df.country.nunique()"
   ]
  },
  {
   "cell_type": "code",
   "execution_count": 6,
   "id": "3f07d04b-ced4-46c7-9bbd-bb3c0df4c615",
   "metadata": {},
   "outputs": [
    {
     "data": {
      "text/plain": [
       "68189"
      ]
     },
     "execution_count": 6,
     "metadata": {},
     "output_type": "execute_result"
    }
   ],
   "source": [
    "df.personName.nunique()"
   ]
  },
  {
   "cell_type": "code",
   "execution_count": 7,
   "id": "bc97b979-00d5-4bfe-af16-e4462a6096c4",
   "metadata": {},
   "outputs": [
    {
     "data": {
      "text/plain": [
       "105226"
      ]
     },
     "execution_count": 7,
     "metadata": {},
     "output_type": "execute_result"
    }
   ],
   "source": [
    "len(df)"
   ]
  },
  {
   "cell_type": "code",
   "execution_count": 8,
   "id": "faf59871-2058-4cd9-b1bf-db838ed4b415",
   "metadata": {},
   "outputs": [
    {
     "data": {
      "text/plain": [
       "Unnamed: 0                            105226\n",
       "publication_type_group_id             105226\n",
       "publication_type_group_description    105226\n",
       "facetedSearchId                       105226\n",
       "rowType                               105226\n",
       "organisationName                      105226\n",
       "organisationId                        105226\n",
       "organisationLocation                   17516\n",
       "town                                  105226\n",
       "country                               105226\n",
       "profilePictureUrl                      41645\n",
       "hasPaidProfile                        105226\n",
       "personOrganisationId                   87710\n",
       "personName                             87710\n",
       "dtype: int64"
      ]
     },
     "execution_count": 8,
     "metadata": {},
     "output_type": "execute_result"
    }
   ],
   "source": [
    "df.count(0)"
   ]
  },
  {
   "cell_type": "code",
   "execution_count": 9,
   "id": "ed8409f1-0b87-4d08-9d92-ac7f5ea45339",
   "metadata": {},
   "outputs": [
    {
     "data": {
      "text/plain": [
       "Global                                 24805\n",
       "USA                                    24064\n",
       "Europe                                 14385\n",
       "UK                                     11617\n",
       "Asia-Pacific                            6393\n",
       "UK Bar                                  5248\n",
       "High Net Worth                          5001\n",
       "Latin America                           4918\n",
       "Canada                                  2471\n",
       "Greater China Region                    2281\n",
       "Brazil                                  1816\n",
       "FinTech                                  979\n",
       "GC Influencers                           661\n",
       "Litigation Support                       368\n",
       "Crisis & Risk Management                 106\n",
       "Law Tech                                  68\n",
       "Alternative Legal Service Providers       45\n",
       "Name: publication_type_group_description, dtype: int64"
      ]
     },
     "execution_count": 9,
     "metadata": {},
     "output_type": "execute_result"
    }
   ],
   "source": [
    "df.publication_type_group_description.value_counts()"
   ]
  },
  {
   "cell_type": "code",
   "execution_count": 10,
   "id": "1e97ce55-0038-4a0b-a1df-43f4ec661911",
   "metadata": {},
   "outputs": [],
   "source": [
    "df_global = df.query(\"publication_type_group_description == 'Global'\")\n",
    "df_europe = df.query(\"publication_type_group_description == 'Europe'\")\n",
    "df_uk = df.query(\"publication_type_group_description == 'UK'\")\n",
    "df_asia = df.query(\"publication_type_group_description == 'Asia-Pacific'\")\n",
    "df_uk_bar = df.query(\"publication_type_group_description == 'UK Bar'\")\n",
    "df_high_net_worth = df.query(\"publication_type_group_description == 'High Net Worth'\")\n",
    "df_latin_america = df.query(\"publication_type_group_description == 'Latin America'\")\n",
    "df_canada = df.query(\"publication_type_group_description == 'Canada'\")\n",
    "df_china = df.query(\"publication_type_group_description == 'Greater China Region'\")\n",
    "df_brazil = df.query(\"publication_type_group_description == 'Brazil'\")\n",
    "df_fintech = df.query(\"publication_type_group_description == 'FinTech'\")\n",
    "df_gc_influencers = df.query(\"publication_type_group_description == 'GC Influencers'\")\n",
    "df_litigation_support = df.query(\"publication_type_group_description == 'Litigation Support'\")\n",
    "df_crisis_risk = df.query(\"publication_type_group_description == 'Crisis & Risk Management'\")\n",
    "df_law_tech = df.query(\"publication_type_group_description == 'Law Tech'\")\n",
    "df_alternative = df.query(\"publication_type_group_description == 'Alternative Legal Service Providers'\")"
   ]
  },
  {
   "cell_type": "code",
   "execution_count": 11,
   "id": "350953aa-601b-4d11-b311-ca265d29df22",
   "metadata": {},
   "outputs": [
    {
     "data": {
      "text/html": [
       "<div>\n",
       "<style scoped>\n",
       "    .dataframe tbody tr th:only-of-type {\n",
       "        vertical-align: middle;\n",
       "    }\n",
       "\n",
       "    .dataframe tbody tr th {\n",
       "        vertical-align: top;\n",
       "    }\n",
       "\n",
       "    .dataframe thead th {\n",
       "        text-align: right;\n",
       "    }\n",
       "</style>\n",
       "<table border=\"1\" class=\"dataframe\">\n",
       "  <thead>\n",
       "    <tr style=\"text-align: right;\">\n",
       "      <th></th>\n",
       "      <th>Unnamed: 0</th>\n",
       "      <th>publication_type_group_id</th>\n",
       "      <th>publication_type_group_description</th>\n",
       "      <th>facetedSearchId</th>\n",
       "      <th>rowType</th>\n",
       "      <th>organisationName</th>\n",
       "      <th>organisationId</th>\n",
       "      <th>organisationLocation</th>\n",
       "      <th>town</th>\n",
       "      <th>country</th>\n",
       "      <th>profilePictureUrl</th>\n",
       "      <th>hasPaidProfile</th>\n",
       "      <th>personOrganisationId</th>\n",
       "      <th>personName</th>\n",
       "    </tr>\n",
       "  </thead>\n",
       "  <tbody>\n",
       "    <tr>\n",
       "      <th>19439</th>\n",
       "      <td>19439</td>\n",
       "      <td>2</td>\n",
       "      <td>Global</td>\n",
       "      <td>0</td>\n",
       "      <td>Lawyers</td>\n",
       "      <td>Ropes &amp; Gray LLP</td>\n",
       "      <td>3650</td>\n",
       "      <td>NaN</td>\n",
       "      <td>Hong Kong</td>\n",
       "      <td>China</td>\n",
       "      <td>https://media.chambers.com/individuals/3071712...</td>\n",
       "      <td>True</td>\n",
       "      <td>338408.0</td>\n",
       "      <td>Andrew J Dale</td>\n",
       "    </tr>\n",
       "    <tr>\n",
       "      <th>19440</th>\n",
       "      <td>19440</td>\n",
       "      <td>116</td>\n",
       "      <td>Greater China Region</td>\n",
       "      <td>0</td>\n",
       "      <td>Lawyers</td>\n",
       "      <td>Ropes &amp; Gray LLP</td>\n",
       "      <td>3650</td>\n",
       "      <td>NaN</td>\n",
       "      <td>Hong Kong</td>\n",
       "      <td>China</td>\n",
       "      <td>https://media.chambers.com/individuals/3071712...</td>\n",
       "      <td>True</td>\n",
       "      <td>338408.0</td>\n",
       "      <td>Andrew J Dale</td>\n",
       "    </tr>\n",
       "  </tbody>\n",
       "</table>\n",
       "</div>"
      ],
      "text/plain": [
       "       Unnamed: 0  publication_type_group_id  \\\n",
       "19439       19439                          2   \n",
       "19440       19440                        116   \n",
       "\n",
       "      publication_type_group_description  facetedSearchId  rowType  \\\n",
       "19439                             Global                0  Lawyers   \n",
       "19440               Greater China Region                0  Lawyers   \n",
       "\n",
       "       organisationName  organisationId organisationLocation       town  \\\n",
       "19439  Ropes & Gray LLP            3650                  NaN  Hong Kong   \n",
       "19440  Ropes & Gray LLP            3650                  NaN  Hong Kong   \n",
       "\n",
       "      country                                  profilePictureUrl  \\\n",
       "19439   China  https://media.chambers.com/individuals/3071712...   \n",
       "19440   China  https://media.chambers.com/individuals/3071712...   \n",
       "\n",
       "       hasPaidProfile  personOrganisationId     personName  \n",
       "19439            True              338408.0  Andrew J Dale  \n",
       "19440            True              338408.0  Andrew J Dale  "
      ]
     },
     "execution_count": 11,
     "metadata": {},
     "output_type": "execute_result"
    }
   ],
   "source": [
    "df.loc[df['personOrganisationId'] == 338408]"
   ]
  },
  {
   "cell_type": "code",
   "execution_count": 12,
   "id": "c6fb3b26-c46e-45b9-86c7-b7aa252fef9c",
   "metadata": {},
   "outputs": [],
   "source": [
    "# Create three data frames, one for lawyers, one for firms, one for publications"
   ]
  },
  {
   "cell_type": "code",
   "execution_count": 13,
   "id": "cbfa0cfa-64b6-4662-9490-0b2a9b163f0c",
   "metadata": {},
   "outputs": [],
   "source": [
    "# Run some checks to verify the data is good"
   ]
  },
  {
   "cell_type": "code",
   "execution_count": 14,
   "id": "b52ac866-763e-43f9-bad0-6b464c4630cf",
   "metadata": {},
   "outputs": [],
   "source": [
    "# Run some useful analyses on the data"
   ]
  },
  {
   "cell_type": "code",
   "execution_count": 15,
   "id": "60dcbfb6-bd12-47b8-9fa8-a328aefb06fa",
   "metadata": {},
   "outputs": [],
   "source": [
    "# output the cleaned data into a database that I then connect to Mode Analytics? Hmm..."
   ]
  },
  {
   "cell_type": "code",
   "execution_count": null,
   "id": "dd0c2518-6bcf-4b46-a82a-e2617c86468a",
   "metadata": {},
   "outputs": [],
   "source": []
  }
 ],
 "metadata": {
  "kernelspec": {
   "display_name": "Python 3 (ipykernel)",
   "language": "python",
   "name": "python3"
  },
  "language_info": {
   "codemirror_mode": {
    "name": "ipython",
    "version": 3
   },
   "file_extension": ".py",
   "mimetype": "text/x-python",
   "name": "python",
   "nbconvert_exporter": "python",
   "pygments_lexer": "ipython3",
   "version": "3.9.12"
  }
 },
 "nbformat": 4,
 "nbformat_minor": 5
}
