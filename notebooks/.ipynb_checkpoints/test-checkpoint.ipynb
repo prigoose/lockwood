{
 "cells": [
  {
   "cell_type": "markdown",
   "id": "61cde4db-3163-4dfa-8183-75836d145950",
   "metadata": {},
   "source": [
    "# Get the uncleaned source data"
   ]
  },
  {
   "cell_type": "code",
   "execution_count": 45,
   "id": "e72fe0ee-0a8d-4604-b6b9-4e2d242423e8",
   "metadata": {
    "tags": []
   },
   "outputs": [
    {
     "data": {
      "text/html": [
       "<div>\n",
       "<style scoped>\n",
       "    .dataframe tbody tr th:only-of-type {\n",
       "        vertical-align: middle;\n",
       "    }\n",
       "\n",
       "    .dataframe tbody tr th {\n",
       "        vertical-align: top;\n",
       "    }\n",
       "\n",
       "    .dataframe thead th {\n",
       "        text-align: right;\n",
       "    }\n",
       "</style>\n",
       "<table border=\"1\" class=\"dataframe\">\n",
       "  <thead>\n",
       "    <tr style=\"text-align: right;\">\n",
       "      <th></th>\n",
       "      <th>Unnamed: 0</th>\n",
       "      <th>facetedSearchId</th>\n",
       "      <th>rowType</th>\n",
       "      <th>organisationName</th>\n",
       "      <th>organisationId</th>\n",
       "      <th>organisationLocation</th>\n",
       "      <th>town</th>\n",
       "      <th>country</th>\n",
       "      <th>profilePictureUrl</th>\n",
       "      <th>hasPaidProfile</th>\n",
       "      <th>publicationTypeGroups</th>\n",
       "      <th>personOrganisationId</th>\n",
       "      <th>personName</th>\n",
       "    </tr>\n",
       "  </thead>\n",
       "  <tbody>\n",
       "    <tr>\n",
       "      <th>0</th>\n",
       "      <td>0</td>\n",
       "      <td>7141</td>\n",
       "      <td>Firms</td>\n",
       "      <td>Allen &amp; Overy LLP</td>\n",
       "      <td>23263768</td>\n",
       "      <td>Undefined</td>\n",
       "      <td>Undefined</td>\n",
       "      <td>Undefined</td>\n",
       "      <td>NaN</td>\n",
       "      <td>False</td>\n",
       "      <td>[{'id': 2, 'description': 'Global'}]</td>\n",
       "      <td>NaN</td>\n",
       "      <td>NaN</td>\n",
       "    </tr>\n",
       "    <tr>\n",
       "      <th>1</th>\n",
       "      <td>1</td>\n",
       "      <td>7248</td>\n",
       "      <td>Firms</td>\n",
       "      <td>Nati Simchony &amp; Co.</td>\n",
       "      <td>23249255</td>\n",
       "      <td>Undefined</td>\n",
       "      <td>Undefined</td>\n",
       "      <td>Undefined</td>\n",
       "      <td>NaN</td>\n",
       "      <td>False</td>\n",
       "      <td>[{'id': 2, 'description': 'Global'}]</td>\n",
       "      <td>NaN</td>\n",
       "      <td>NaN</td>\n",
       "    </tr>\n",
       "    <tr>\n",
       "      <th>2</th>\n",
       "      <td>2</td>\n",
       "      <td>12441</td>\n",
       "      <td>Firms</td>\n",
       "      <td>1,5 Advokatfirma AS</td>\n",
       "      <td>23292859</td>\n",
       "      <td>Lillehammer</td>\n",
       "      <td>Lillehammer</td>\n",
       "      <td>Norway</td>\n",
       "      <td>NaN</td>\n",
       "      <td>False</td>\n",
       "      <td>[{'id': 7, 'description': 'Europe'}]</td>\n",
       "      <td>NaN</td>\n",
       "      <td>NaN</td>\n",
       "    </tr>\n",
       "    <tr>\n",
       "      <th>3</th>\n",
       "      <td>3</td>\n",
       "      <td>3991</td>\n",
       "      <td>Firms</td>\n",
       "      <td>12 Wentworth Selborne Chambers</td>\n",
       "      <td>22597588</td>\n",
       "      <td>Sydney</td>\n",
       "      <td>Sydney</td>\n",
       "      <td>Australia</td>\n",
       "      <td>NaN</td>\n",
       "      <td>False</td>\n",
       "      <td>[{'id': 2, 'description': 'Global'}, {'id': 8,...</td>\n",
       "      <td>NaN</td>\n",
       "      <td>NaN</td>\n",
       "    </tr>\n",
       "    <tr>\n",
       "      <th>4</th>\n",
       "      <td>4</td>\n",
       "      <td>4806</td>\n",
       "      <td>Firms</td>\n",
       "      <td>35 West Chambers</td>\n",
       "      <td>22914348</td>\n",
       "      <td>Brisbane</td>\n",
       "      <td>Brisbane</td>\n",
       "      <td>Australia</td>\n",
       "      <td>NaN</td>\n",
       "      <td>False</td>\n",
       "      <td>[{'id': 2, 'description': 'Global'}, {'id': 8,...</td>\n",
       "      <td>NaN</td>\n",
       "      <td>NaN</td>\n",
       "    </tr>\n",
       "  </tbody>\n",
       "</table>\n",
       "</div>"
      ],
      "text/plain": [
       "   Unnamed: 0  facetedSearchId rowType                organisationName  \\\n",
       "0           0             7141   Firms               Allen & Overy LLP   \n",
       "1           1             7248   Firms             Nati Simchony & Co.   \n",
       "2           2            12441   Firms             1,5 Advokatfirma AS   \n",
       "3           3             3991   Firms  12 Wentworth Selborne Chambers   \n",
       "4           4             4806   Firms                35 West Chambers   \n",
       "\n",
       "   organisationId organisationLocation         town    country  \\\n",
       "0        23263768            Undefined    Undefined  Undefined   \n",
       "1        23249255            Undefined    Undefined  Undefined   \n",
       "2        23292859          Lillehammer  Lillehammer     Norway   \n",
       "3        22597588               Sydney       Sydney  Australia   \n",
       "4        22914348             Brisbane     Brisbane  Australia   \n",
       "\n",
       "  profilePictureUrl  hasPaidProfile  \\\n",
       "0               NaN           False   \n",
       "1               NaN           False   \n",
       "2               NaN           False   \n",
       "3               NaN           False   \n",
       "4               NaN           False   \n",
       "\n",
       "                               publicationTypeGroups  personOrganisationId  \\\n",
       "0               [{'id': 2, 'description': 'Global'}]                   NaN   \n",
       "1               [{'id': 2, 'description': 'Global'}]                   NaN   \n",
       "2               [{'id': 7, 'description': 'Europe'}]                   NaN   \n",
       "3  [{'id': 2, 'description': 'Global'}, {'id': 8,...                   NaN   \n",
       "4  [{'id': 2, 'description': 'Global'}, {'id': 8,...                   NaN   \n",
       "\n",
       "  personName  \n",
       "0        NaN  \n",
       "1        NaN  \n",
       "2        NaN  \n",
       "3        NaN  \n",
       "4        NaN  "
      ]
     },
     "execution_count": 45,
     "metadata": {},
     "output_type": "execute_result"
    }
   ],
   "source": [
    "import pandas as pd\n",
    "\n",
    "df = pd.read_csv (r'firms - very big file.csv')\n",
    "df.head()"
   ]
  },
  {
   "cell_type": "code",
   "execution_count": 50,
   "id": "f758a9d1-1927-4fa8-bca0-56d43d90b03a",
   "metadata": {},
   "outputs": [
    {
     "data": {
      "text/plain": [
       "Index(['Unnamed: 0', 'facetedSearchId', 'rowType', 'organisationName',\n",
       "       'organisationId', 'organisationLocation', 'town', 'country',\n",
       "       'profilePictureUrl', 'hasPaidProfile', 'publicationTypeGroups',\n",
       "       'personOrganisationId', 'personName'],\n",
       "      dtype='object')"
      ]
     },
     "execution_count": 50,
     "metadata": {},
     "output_type": "execute_result"
    }
   ],
   "source": [
    "df.columns"
   ]
  },
  {
   "cell_type": "code",
   "execution_count": 51,
   "id": "6794b96c-6be5-4814-939e-044eef3529a7",
   "metadata": {},
   "outputs": [
    {
     "data": {
      "text/html": [
       "<div>\n",
       "<style scoped>\n",
       "    .dataframe tbody tr th:only-of-type {\n",
       "        vertical-align: middle;\n",
       "    }\n",
       "\n",
       "    .dataframe tbody tr th {\n",
       "        vertical-align: top;\n",
       "    }\n",
       "\n",
       "    .dataframe thead th {\n",
       "        text-align: right;\n",
       "    }\n",
       "</style>\n",
       "<table border=\"1\" class=\"dataframe\">\n",
       "  <thead>\n",
       "    <tr style=\"text-align: right;\">\n",
       "      <th></th>\n",
       "      <th>facetedSearchId</th>\n",
       "      <th>rowType</th>\n",
       "      <th>organisationName</th>\n",
       "      <th>organisationId</th>\n",
       "      <th>organisationLocation</th>\n",
       "      <th>town</th>\n",
       "      <th>country</th>\n",
       "      <th>profilePictureUrl</th>\n",
       "      <th>hasPaidProfile</th>\n",
       "      <th>publicationTypeGroups</th>\n",
       "      <th>personOrganisationId</th>\n",
       "      <th>personName</th>\n",
       "    </tr>\n",
       "  </thead>\n",
       "  <tbody>\n",
       "    <tr>\n",
       "      <th>0</th>\n",
       "      <td>7141</td>\n",
       "      <td>Firms</td>\n",
       "      <td>Allen &amp; Overy LLP</td>\n",
       "      <td>23263768</td>\n",
       "      <td>Undefined</td>\n",
       "      <td>Undefined</td>\n",
       "      <td>Undefined</td>\n",
       "      <td>NaN</td>\n",
       "      <td>False</td>\n",
       "      <td>[{'id': 2, 'description': 'Global'}]</td>\n",
       "      <td>NaN</td>\n",
       "      <td>NaN</td>\n",
       "    </tr>\n",
       "    <tr>\n",
       "      <th>1</th>\n",
       "      <td>7248</td>\n",
       "      <td>Firms</td>\n",
       "      <td>Nati Simchony &amp; Co.</td>\n",
       "      <td>23249255</td>\n",
       "      <td>Undefined</td>\n",
       "      <td>Undefined</td>\n",
       "      <td>Undefined</td>\n",
       "      <td>NaN</td>\n",
       "      <td>False</td>\n",
       "      <td>[{'id': 2, 'description': 'Global'}]</td>\n",
       "      <td>NaN</td>\n",
       "      <td>NaN</td>\n",
       "    </tr>\n",
       "    <tr>\n",
       "      <th>2</th>\n",
       "      <td>12441</td>\n",
       "      <td>Firms</td>\n",
       "      <td>1,5 Advokatfirma AS</td>\n",
       "      <td>23292859</td>\n",
       "      <td>Lillehammer</td>\n",
       "      <td>Lillehammer</td>\n",
       "      <td>Norway</td>\n",
       "      <td>NaN</td>\n",
       "      <td>False</td>\n",
       "      <td>[{'id': 7, 'description': 'Europe'}]</td>\n",
       "      <td>NaN</td>\n",
       "      <td>NaN</td>\n",
       "    </tr>\n",
       "    <tr>\n",
       "      <th>3</th>\n",
       "      <td>3991</td>\n",
       "      <td>Firms</td>\n",
       "      <td>12 Wentworth Selborne Chambers</td>\n",
       "      <td>22597588</td>\n",
       "      <td>Sydney</td>\n",
       "      <td>Sydney</td>\n",
       "      <td>Australia</td>\n",
       "      <td>NaN</td>\n",
       "      <td>False</td>\n",
       "      <td>[{'id': 2, 'description': 'Global'}, {'id': 8,...</td>\n",
       "      <td>NaN</td>\n",
       "      <td>NaN</td>\n",
       "    </tr>\n",
       "    <tr>\n",
       "      <th>4</th>\n",
       "      <td>4806</td>\n",
       "      <td>Firms</td>\n",
       "      <td>35 West Chambers</td>\n",
       "      <td>22914348</td>\n",
       "      <td>Brisbane</td>\n",
       "      <td>Brisbane</td>\n",
       "      <td>Australia</td>\n",
       "      <td>NaN</td>\n",
       "      <td>False</td>\n",
       "      <td>[{'id': 2, 'description': 'Global'}, {'id': 8,...</td>\n",
       "      <td>NaN</td>\n",
       "      <td>NaN</td>\n",
       "    </tr>\n",
       "  </tbody>\n",
       "</table>\n",
       "</div>"
      ],
      "text/plain": [
       "   facetedSearchId rowType                organisationName  organisationId  \\\n",
       "0             7141   Firms               Allen & Overy LLP        23263768   \n",
       "1             7248   Firms             Nati Simchony & Co.        23249255   \n",
       "2            12441   Firms             1,5 Advokatfirma AS        23292859   \n",
       "3             3991   Firms  12 Wentworth Selborne Chambers        22597588   \n",
       "4             4806   Firms                35 West Chambers        22914348   \n",
       "\n",
       "  organisationLocation         town    country profilePictureUrl  \\\n",
       "0            Undefined    Undefined  Undefined               NaN   \n",
       "1            Undefined    Undefined  Undefined               NaN   \n",
       "2          Lillehammer  Lillehammer     Norway               NaN   \n",
       "3               Sydney       Sydney  Australia               NaN   \n",
       "4             Brisbane     Brisbane  Australia               NaN   \n",
       "\n",
       "   hasPaidProfile                              publicationTypeGroups  \\\n",
       "0           False               [{'id': 2, 'description': 'Global'}]   \n",
       "1           False               [{'id': 2, 'description': 'Global'}]   \n",
       "2           False               [{'id': 7, 'description': 'Europe'}]   \n",
       "3           False  [{'id': 2, 'description': 'Global'}, {'id': 8,...   \n",
       "4           False  [{'id': 2, 'description': 'Global'}, {'id': 8,...   \n",
       "\n",
       "   personOrganisationId personName  \n",
       "0                   NaN        NaN  \n",
       "1                   NaN        NaN  \n",
       "2                   NaN        NaN  \n",
       "3                   NaN        NaN  \n",
       "4                   NaN        NaN  "
      ]
     },
     "execution_count": 51,
     "metadata": {},
     "output_type": "execute_result"
    }
   ],
   "source": [
    "df.drop(columns=['Unnamed: 0'], inplace=True)\n",
    "df.head()"
   ]
  },
  {
   "cell_type": "code",
   "execution_count": 38,
   "id": "477a9979-390a-4a11-a5e7-13322b84d2f0",
   "metadata": {},
   "outputs": [
    {
     "data": {
      "text/plain": [
       "Lawyers               773442\n",
       "Firms                 117197\n",
       "Barristers             65622\n",
       "Advisor                 7617\n",
       "Set                     6398\n",
       "Other Institutions      4050\n",
       "Law Firm Networks       1575\n",
       "Name: rowType, dtype: int64"
      ]
     },
     "execution_count": 38,
     "metadata": {},
     "output_type": "execute_result"
    }
   ],
   "source": [
    "df.rowType.value_counts()"
   ]
  },
  {
   "cell_type": "code",
   "execution_count": 23,
   "id": "3c509cc5-13a6-41b8-a884-d802e218b880",
   "metadata": {},
   "outputs": [
    {
     "data": {
      "text/plain": [
       "13803"
      ]
     },
     "execution_count": 23,
     "metadata": {},
     "output_type": "execute_result"
    }
   ],
   "source": [
    "df.organisationName.nunique()"
   ]
  },
  {
   "cell_type": "code",
   "execution_count": 25,
   "id": "428f59bb-12c2-4047-8b3b-d9533a6d544b",
   "metadata": {},
   "outputs": [
    {
     "data": {
      "text/plain": [
       "208"
      ]
     },
     "execution_count": 25,
     "metadata": {},
     "output_type": "execute_result"
    }
   ],
   "source": [
    "df.country.nunique()"
   ]
  },
  {
   "cell_type": "code",
   "execution_count": 27,
   "id": "3f07d04b-ced4-46c7-9bbd-bb3c0df4c615",
   "metadata": {},
   "outputs": [
    {
     "data": {
      "text/plain": [
       "68189"
      ]
     },
     "execution_count": 27,
     "metadata": {},
     "output_type": "execute_result"
    }
   ],
   "source": [
    "df.personName.nunique()"
   ]
  },
  {
   "cell_type": "code",
   "execution_count": 52,
   "id": "bc97b979-00d5-4bfe-af16-e4462a6096c4",
   "metadata": {},
   "outputs": [
    {
     "data": {
      "text/plain": [
       "760947"
      ]
     },
     "execution_count": 52,
     "metadata": {},
     "output_type": "execute_result"
    }
   ],
   "source": [
    "len(df)"
   ]
  },
  {
   "cell_type": "code",
   "execution_count": 54,
   "id": "faf59871-2058-4cd9-b1bf-db838ed4b415",
   "metadata": {},
   "outputs": [
    {
     "data": {
      "text/plain": [
       "facetedSearchId          760947\n",
       "rowType                  760947\n",
       "organisationName         760947\n",
       "organisationId           760947\n",
       "organisationLocation      98628\n",
       "town                     760947\n",
       "country                  760947\n",
       "profilePictureUrl        283177\n",
       "hasPaidProfile           760947\n",
       "publicationTypeGroups    760947\n",
       "personOrganisationId     662319\n",
       "personName               662319\n",
       "dtype: int64"
      ]
     },
     "execution_count": 54,
     "metadata": {},
     "output_type": "execute_result"
    }
   ],
   "source": [
    "df.count(0)"
   ]
  },
  {
   "cell_type": "code",
   "execution_count": 56,
   "id": "3f500746-e99f-481d-b069-bb190fc0e4ce",
   "metadata": {},
   "outputs": [],
   "source": [
    "df.drop_duplicates(inplace=True)"
   ]
  },
  {
   "cell_type": "code",
   "execution_count": 57,
   "id": "e75390f5-546e-467b-acf0-869e153020c3",
   "metadata": {},
   "outputs": [
    {
     "data": {
      "text/plain": [
       "81721"
      ]
     },
     "execution_count": 57,
     "metadata": {},
     "output_type": "execute_result"
    }
   ],
   "source": [
    "len(df)"
   ]
  },
  {
   "cell_type": "code",
   "execution_count": null,
   "id": "c6fb3b26-c46e-45b9-86c7-b7aa252fef9c",
   "metadata": {},
   "outputs": [],
   "source": [
    "# Create three data frames, one for lawyers, one for firms, one for publications"
   ]
  },
  {
   "cell_type": "code",
   "execution_count": null,
   "id": "cbfa0cfa-64b6-4662-9490-0b2a9b163f0c",
   "metadata": {},
   "outputs": [],
   "source": [
    "# Run some checks to verify the data is good"
   ]
  },
  {
   "cell_type": "code",
   "execution_count": 1,
   "id": "b52ac866-763e-43f9-bad0-6b464c4630cf",
   "metadata": {},
   "outputs": [],
   "source": [
    "# Run some useful analyses on the data"
   ]
  },
  {
   "cell_type": "code",
   "execution_count": 2,
   "id": "60dcbfb6-bd12-47b8-9fa8-a328aefb06fa",
   "metadata": {},
   "outputs": [],
   "source": [
    "# output the cleaned data into a database that I then connect to Mode Analytics? Hmm..."
   ]
  }
 ],
 "metadata": {
  "kernelspec": {
   "display_name": "Python 3 (ipykernel)",
   "language": "python",
   "name": "python3"
  },
  "language_info": {
   "codemirror_mode": {
    "name": "ipython",
    "version": 3
   },
   "file_extension": ".py",
   "mimetype": "text/x-python",
   "name": "python",
   "nbconvert_exporter": "python",
   "pygments_lexer": "ipython3",
   "version": "3.10.0"
  }
 },
 "nbformat": 4,
 "nbformat_minor": 5
}
