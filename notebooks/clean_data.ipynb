{
 "cells": [
  {
   "cell_type": "code",
   "execution_count": 1,
   "id": "e72fe0ee-0a8d-4604-b6b9-4e2d242423e8",
   "metadata": {
    "tags": []
   },
   "outputs": [],
   "source": [
    "import pandas as pd\n",
    "\n",
    "# df = pd.read_json('../data/aug15-2022/firms.json') # commenting out so i don't run this file by accident"
   ]
  },
  {
   "cell_type": "code",
   "execution_count": 2,
   "id": "685d0d89-37b8-45a1-bfeb-0fb71726a94a",
   "metadata": {},
   "outputs": [],
   "source": [
    "df.rename(columns = {\"id\": \"publication_type_group_id\", \"description\": \"publication_type_group_description\"}, inplace=True)"
   ]
  },
  {
   "cell_type": "code",
   "execution_count": 3,
   "id": "6794b96c-6be5-4814-939e-044eef3529a7",
   "metadata": {
    "tags": []
   },
   "outputs": [],
   "source": [
    "# df.drop(columns=['Unnamed: 0'], inplace=True)"
   ]
  },
  {
   "cell_type": "code",
   "execution_count": 4,
   "id": "3f500746-e99f-481d-b069-bb190fc0e4ce",
   "metadata": {},
   "outputs": [
    {
     "data": {
      "text/plain": [
       "[{'id': 2, 'description': 'Global'}]"
      ]
     },
     "execution_count": 4,
     "metadata": {},
     "output_type": "execute_result"
    }
   ],
   "source": [
    "# df.drop_duplicates(inplace=True) # can't use drop duplicates rn because i have a list\n",
    "# this is my hack:\n",
    "df.loc[df.astype(str).drop_duplicates().index]\n",
    "df.loc[df.astype(str).drop_duplicates().index].loc[0,'publicationTypeGroups']"
   ]
  },
  {
   "cell_type": "code",
   "execution_count": 5,
   "id": "dd0c2518-6bcf-4b46-a82a-e2617c86468a",
   "metadata": {},
   "outputs": [],
   "source": [
    "df.to_csv(r'../data/aug15-2022/firms_clean.csv')"
   ]
  },
  {
   "cell_type": "code",
   "execution_count": null,
   "id": "ebf1075b-0d19-484f-a241-a246ca613dc1",
   "metadata": {},
   "outputs": [],
   "source": []
  }
 ],
 "metadata": {
  "kernelspec": {
   "display_name": "Python 3.10.0 64-bit",
   "language": "python",
   "name": "python3"
  },
  "language_info": {
   "codemirror_mode": {
    "name": "ipython",
    "version": 3
   },
   "file_extension": ".py",
   "mimetype": "text/x-python",
   "name": "python",
   "nbconvert_exporter": "python",
   "pygments_lexer": "ipython3",
   "version": "3.10.0"
  },
  "vscode": {
   "interpreter": {
    "hash": "7e1998ff7f8aa20ada591c520b972326324e5ea05489af9e422744c7c09f6dad"
   }
  }
 },
 "nbformat": 4,
 "nbformat_minor": 5
}
