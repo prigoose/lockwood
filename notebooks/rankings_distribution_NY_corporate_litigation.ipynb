{
 "cells": [
  {
   "cell_type": "markdown",
   "id": "dd8f4655-ba30-4213-91ac-6a3e8ff5b08a",
   "metadata": {},
   "source": [
    "## Litigation: White-Collar Crime & Government Investigations - New York"
   ]
  },
  {
   "cell_type": "code",
   "execution_count": 40,
   "id": "0fd878f4-4a76-4fcd-a47e-767278f6c8d3",
   "metadata": {},
   "outputs": [
    {
     "data": {
      "text/html": [
       "<div>\n",
       "<style scoped>\n",
       "    .dataframe tbody tr th:only-of-type {\n",
       "        vertical-align: middle;\n",
       "    }\n",
       "\n",
       "    .dataframe tbody tr th {\n",
       "        vertical-align: top;\n",
       "    }\n",
       "\n",
       "    .dataframe thead th {\n",
       "        text-align: right;\n",
       "    }\n",
       "</style>\n",
       "<table border=\"1\" class=\"dataframe\">\n",
       "  <thead>\n",
       "    <tr style=\"text-align: right;\">\n",
       "      <th></th>\n",
       "      <th>personOrganisationId</th>\n",
       "      <th>displayName</th>\n",
       "      <th>organisationId</th>\n",
       "      <th>parentOrganisationId</th>\n",
       "      <th>isPaid</th>\n",
       "      <th>organisationName</th>\n",
       "      <th>description</th>\n",
       "    </tr>\n",
       "  </thead>\n",
       "  <tbody>\n",
       "    <tr>\n",
       "      <th>0</th>\n",
       "      <td>148055</td>\n",
       "      <td>Charles Stillman</td>\n",
       "      <td>22770579</td>\n",
       "      <td>3532</td>\n",
       "      <td>1</td>\n",
       "      <td>Ballard Spahr LLP</td>\n",
       "      <td>Senior Statespeople</td>\n",
       "    </tr>\n",
       "    <tr>\n",
       "      <th>1</th>\n",
       "      <td>154038</td>\n",
       "      <td>Denis McInerney</td>\n",
       "      <td>3833</td>\n",
       "      <td>3833</td>\n",
       "      <td>1</td>\n",
       "      <td>Davis Polk &amp; Wardwell LLP</td>\n",
       "      <td>Senior Statespeople</td>\n",
       "    </tr>\n",
       "    <tr>\n",
       "      <th>2</th>\n",
       "      <td>196406</td>\n",
       "      <td>Elkan Abramowitz</td>\n",
       "      <td>66644</td>\n",
       "      <td>66644</td>\n",
       "      <td>1</td>\n",
       "      <td>Morvillo Abramowitz Grand Iason &amp; Anello P.C.</td>\n",
       "      <td>Senior Statespeople</td>\n",
       "    </tr>\n",
       "    <tr>\n",
       "      <th>3</th>\n",
       "      <td>196413</td>\n",
       "      <td>Frank Wohl</td>\n",
       "      <td>85876</td>\n",
       "      <td>85876</td>\n",
       "      <td>1</td>\n",
       "      <td>Lankler Siffert &amp; Wohl LLP</td>\n",
       "      <td>Senior Statespeople</td>\n",
       "    </tr>\n",
       "    <tr>\n",
       "      <th>4</th>\n",
       "      <td>154057</td>\n",
       "      <td>Gary P Naftalis</td>\n",
       "      <td>2683</td>\n",
       "      <td>2683</td>\n",
       "      <td>1</td>\n",
       "      <td>Kramer Levin Naftalis &amp; Frankel LLP</td>\n",
       "      <td>Senior Statespeople</td>\n",
       "    </tr>\n",
       "  </tbody>\n",
       "</table>\n",
       "</div>"
      ],
      "text/plain": [
       "   personOrganisationId       displayName  organisationId  \\\n",
       "0                148055  Charles Stillman        22770579   \n",
       "1                154038   Denis McInerney            3833   \n",
       "2                196406  Elkan Abramowitz           66644   \n",
       "3                196413        Frank Wohl           85876   \n",
       "4                154057   Gary P Naftalis            2683   \n",
       "\n",
       "   parentOrganisationId  isPaid  \\\n",
       "0                  3532       1   \n",
       "1                  3833       1   \n",
       "2                 66644       1   \n",
       "3                 85876       1   \n",
       "4                  2683       1   \n",
       "\n",
       "                                organisationName          description  \n",
       "0                              Ballard Spahr LLP  Senior Statespeople  \n",
       "1                      Davis Polk & Wardwell LLP  Senior Statespeople  \n",
       "2  Morvillo Abramowitz Grand Iason & Anello P.C.  Senior Statespeople  \n",
       "3                     Lankler Siffert & Wohl LLP  Senior Statespeople  \n",
       "4            Kramer Levin Naftalis & Frankel LLP  Senior Statespeople  "
      ]
     },
     "execution_count": 40,
     "metadata": {},
     "output_type": "execute_result"
    }
   ],
   "source": [
    "import pandas as pd\n",
    "import json\n",
    "\n",
    "file = open('../data/white_collar_litigation_nyc/individual-rankings_517302.json')\n",
    "data = json.load(file)\n",
    "df = pd.json_normalize(\n",
    "    data,\n",
    "    record_path=[\"individuals\"],\n",
    "    meta=[\"description\"],\n",
    "    errors=\"ignore\",\n",
    ")\n",
    "df.head()"
   ]
  },
  {
   "cell_type": "code",
   "execution_count": 31,
   "id": "dae662bd-69f7-4ca9-8849-052085126744",
   "metadata": {},
   "outputs": [
    {
     "data": {
      "text/plain": [
       "array(['Senior Statespeople', 'Eminent Practitioners', 'Star Individuals',\n",
       "       'Band 1', 'Band 2', 'Band 3', 'Band 4', 'Band 5', 'Up and Coming',\n",
       "       'Associates to watch'], dtype=object)"
      ]
     },
     "execution_count": 31,
     "metadata": {},
     "output_type": "execute_result"
    }
   ],
   "source": [
    "df.description.unique()"
   ]
  },
  {
   "cell_type": "code",
   "execution_count": 32,
   "id": "287e53fc-1e52-4ac2-9ce6-683eb1c16b33",
   "metadata": {},
   "outputs": [
    {
     "data": {
      "text/plain": [
       "<AxesSubplot:>"
      ]
     },
     "execution_count": 32,
     "metadata": {},
     "output_type": "execute_result"
    },
    {
     "data": {
      "image/png": "[encoded data removed]",
      "text/plain": [
       "<Figure size 432x288 with 1 Axes>"
      ]
     },
     "metadata": {
      "needs_background": "light"
     },
     "output_type": "display_data"
    }
   ],
   "source": [
    "df['description'].value_counts().plot(kind='bar')"
   ]
  },
  {
   "cell_type": "code",
   "execution_count": 42,
   "id": "21136f12-e087-4d2c-af42-4dc8358e54c6",
   "metadata": {},
   "outputs": [
    {
     "data": {
      "text/plain": [
       "<AxesSubplot:title={'center':'Litigation: White-Collar Crime & Government Investigations - New York'}>"
      ]
     },
     "execution_count": 42,
     "metadata": {},
     "output_type": "execute_result"
    },
    {
     "data": {
      "image/png": "[encoded data removed]",
      "text/plain": [
       "<Figure size 432x288 with 1 Axes>"
      ]
     },
     "metadata": {
      "needs_background": "light"
     },
     "output_type": "display_data"
    }
   ],
   "source": [
    "order = ['Associates to watch', 'Up and Coming', 'Band 5', 'Band 4', 'Band 3', 'Band 2', 'Band 1', 'Star Individuals', 'Eminent Practitioners', 'Senior Statespeople']\n",
    "df.description.value_counts().reindex(order).plot(kind=\"bar\", title=\"Litigation: White-Collar Crime & Government Investigations - New York\")"
   ]
  },
  {
   "cell_type": "code",
   "execution_count": null,
   "id": "27c7e6c7-f569-4492-a05c-42a36b5f938d",
   "metadata": {},
   "outputs": [],
   "source": []
  }
 ],
 "metadata": {
  "kernelspec": {
   "display_name": "Python 3 (ipykernel)",
   "language": "python",
   "name": "python3"
  },
  "language_info": {
   "codemirror_mode": {
    "name": "ipython",
    "version": 3
   },
   "file_extension": ".py",
   "mimetype": "text/x-python",
   "name": "python",
   "nbconvert_exporter": "python",
   "pygments_lexer": "ipython3",
   "version": "3.9.12"
  }
 },
 "nbformat": 4,
 "nbformat_minor": 5
}
