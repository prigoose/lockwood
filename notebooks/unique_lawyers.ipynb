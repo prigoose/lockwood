{
 "cells": [
  {
   "cell_type": "code",
   "execution_count": 1,
   "id": "02f51bf1-23f3-4517-809d-d1e7b4148b96",
   "metadata": {
    "tags": []
   },
   "outputs": [
    {
     "data": {
      "text/html": [
       "<div>\n",
       "<style scoped>\n",
       "    .dataframe tbody tr th:only-of-type {\n",
       "        vertical-align: middle;\n",
       "    }\n",
       "\n",
       "    .dataframe tbody tr th {\n",
       "        vertical-align: top;\n",
       "    }\n",
       "\n",
       "    .dataframe thead th {\n",
       "        text-align: right;\n",
       "    }\n",
       "</style>\n",
       "<table border=\"1\" class=\"dataframe\">\n",
       "  <thead>\n",
       "    <tr style=\"text-align: right;\">\n",
       "      <th></th>\n",
       "      <th>Unnamed: 0</th>\n",
       "      <th>facetedSearchId</th>\n",
       "      <th>rowType</th>\n",
       "      <th>organisationName</th>\n",
       "      <th>organisationId</th>\n",
       "      <th>organisationLocation</th>\n",
       "      <th>town</th>\n",
       "      <th>country</th>\n",
       "      <th>profilePictureUrl</th>\n",
       "      <th>hasPaidProfile</th>\n",
       "      <th>publicationTypeGroups</th>\n",
       "      <th>personOrganisationId</th>\n",
       "      <th>personName</th>\n",
       "    </tr>\n",
       "  </thead>\n",
       "  <tbody>\n",
       "    <tr>\n",
       "      <th>0</th>\n",
       "      <td>0</td>\n",
       "      <td>7160</td>\n",
       "      <td>Firms</td>\n",
       "      <td>Allen &amp; Overy LLP</td>\n",
       "      <td>23263768</td>\n",
       "      <td>Undefined</td>\n",
       "      <td>Undefined</td>\n",
       "      <td>Undefined</td>\n",
       "      <td>NaN</td>\n",
       "      <td>False</td>\n",
       "      <td>[{'id': 2, 'description': 'Global'}]</td>\n",
       "      <td>NaN</td>\n",
       "      <td>NaN</td>\n",
       "    </tr>\n",
       "    <tr>\n",
       "      <th>1</th>\n",
       "      <td>1</td>\n",
       "      <td>12247</td>\n",
       "      <td>Firms</td>\n",
       "      <td>Ceschini &amp; Restignoli Law Office</td>\n",
       "      <td>23020437</td>\n",
       "      <td>Undefined</td>\n",
       "      <td>Undefined</td>\n",
       "      <td>Undefined</td>\n",
       "      <td>NaN</td>\n",
       "      <td>False</td>\n",
       "      <td>[{'id': 21, 'description': 'High Net Worth'}]</td>\n",
       "      <td>NaN</td>\n",
       "      <td>NaN</td>\n",
       "    </tr>\n",
       "    <tr>\n",
       "      <th>2</th>\n",
       "      <td>2</td>\n",
       "      <td>6559</td>\n",
       "      <td>Firms</td>\n",
       "      <td>Collecting Cars Ltd</td>\n",
       "      <td>23296235</td>\n",
       "      <td>Undefined</td>\n",
       "      <td>Undefined</td>\n",
       "      <td>Undefined</td>\n",
       "      <td>NaN</td>\n",
       "      <td>False</td>\n",
       "      <td>[{'id': 1, 'description': 'UK'}]</td>\n",
       "      <td>NaN</td>\n",
       "      <td>NaN</td>\n",
       "    </tr>\n",
       "    <tr>\n",
       "      <th>3</th>\n",
       "      <td>3</td>\n",
       "      <td>9758</td>\n",
       "      <td>Firms</td>\n",
       "      <td>Tuft, Lach, Jerabek &amp; O'Connell</td>\n",
       "      <td>23278729</td>\n",
       "      <td>Undefined</td>\n",
       "      <td>Undefined</td>\n",
       "      <td>Undefined</td>\n",
       "      <td>NaN</td>\n",
       "      <td>False</td>\n",
       "      <td>[{'id': 21, 'description': 'High Net Worth'}]</td>\n",
       "      <td>NaN</td>\n",
       "      <td>NaN</td>\n",
       "    </tr>\n",
       "    <tr>\n",
       "      <th>4</th>\n",
       "      <td>4</td>\n",
       "      <td>5601</td>\n",
       "      <td>Firms</td>\n",
       "      <td>12 Wentworth Selborne Chambers</td>\n",
       "      <td>22597588</td>\n",
       "      <td>Sydney</td>\n",
       "      <td>Sydney</td>\n",
       "      <td>Australia</td>\n",
       "      <td>NaN</td>\n",
       "      <td>False</td>\n",
       "      <td>[{'id': 2, 'description': 'Global'}, {'id': 8,...</td>\n",
       "      <td>NaN</td>\n",
       "      <td>NaN</td>\n",
       "    </tr>\n",
       "  </tbody>\n",
       "</table>\n",
       "</div>"
      ],
      "text/plain": [
       "   Unnamed: 0  facetedSearchId rowType                  organisationName  \\\n",
       "0           0             7160   Firms                 Allen & Overy LLP   \n",
       "1           1            12247   Firms  Ceschini & Restignoli Law Office   \n",
       "2           2             6559   Firms               Collecting Cars Ltd   \n",
       "3           3             9758   Firms   Tuft, Lach, Jerabek & O'Connell   \n",
       "4           4             5601   Firms    12 Wentworth Selborne Chambers   \n",
       "\n",
       "   organisationId organisationLocation       town    country  \\\n",
       "0        23263768            Undefined  Undefined  Undefined   \n",
       "1        23020437            Undefined  Undefined  Undefined   \n",
       "2        23296235            Undefined  Undefined  Undefined   \n",
       "3        23278729            Undefined  Undefined  Undefined   \n",
       "4        22597588               Sydney     Sydney  Australia   \n",
       "\n",
       "  profilePictureUrl  hasPaidProfile  \\\n",
       "0               NaN           False   \n",
       "1               NaN           False   \n",
       "2               NaN           False   \n",
       "3               NaN           False   \n",
       "4               NaN           False   \n",
       "\n",
       "                               publicationTypeGroups  personOrganisationId  \\\n",
       "0               [{'id': 2, 'description': 'Global'}]                   NaN   \n",
       "1      [{'id': 21, 'description': 'High Net Worth'}]                   NaN   \n",
       "2                   [{'id': 1, 'description': 'UK'}]                   NaN   \n",
       "3      [{'id': 21, 'description': 'High Net Worth'}]                   NaN   \n",
       "4  [{'id': 2, 'description': 'Global'}, {'id': 8,...                   NaN   \n",
       "\n",
       "  personName  \n",
       "0        NaN  \n",
       "1        NaN  \n",
       "2        NaN  \n",
       "3        NaN  \n",
       "4        NaN  "
      ]
     },
     "execution_count": 1,
     "metadata": {},
     "output_type": "execute_result"
    }
   ],
   "source": [
    "import pandas as pd\n",
    "\n",
    "df = pd.read_csv(r'../data/aug15-2022/firms_clean.csv')\n",
    "df.head()"
   ]
  },
  {
   "cell_type": "code",
   "execution_count": 2,
   "id": "f186378a-fab5-4696-b404-696bea6ba440",
   "metadata": {},
   "outputs": [
    {
     "data": {
      "text/plain": [
       "765468"
      ]
     },
     "execution_count": 2,
     "metadata": {},
     "output_type": "execute_result"
    }
   ],
   "source": [
    "len(df.index)"
   ]
  },
  {
   "cell_type": "code",
   "execution_count": 3,
   "id": "419e2e04-c6b9-45b9-a5a5-4a105e83763d",
   "metadata": {},
   "outputs": [
    {
     "data": {
      "text/plain": [
       "Lawyers               615213\n",
       "Firms                  83610\n",
       "Barristers             50812\n",
       "Advisor                 6897\n",
       "Other Institutions      4169\n",
       "Set                     3933\n",
       "Law Firm Networks        834\n",
       "Name: rowType, dtype: int64"
      ]
     },
     "execution_count": 3,
     "metadata": {},
     "output_type": "execute_result"
    }
   ],
   "source": [
    "unique_lawyers = df.drop_duplicates(subset=['personOrganisationId']).dropna(subset=['personOrganisationId'])\n",
    "unique_lawyers.head()\n",
    "df.rowType.value_counts()"
   ]
  },
  {
   "cell_type": "code",
   "execution_count": 4,
   "id": "d5431a66-fb26-4f8d-badf-db3dd7ea2618",
   "metadata": {},
   "outputs": [
    {
     "data": {
      "text/plain": [
       "69700"
      ]
     },
     "execution_count": 4,
     "metadata": {},
     "output_type": "execute_result"
    }
   ],
   "source": [
    "len(unique_lawyers.index)"
   ]
  },
  {
   "cell_type": "code",
   "execution_count": 5,
   "id": "611f53fa-27ab-4317-9971-452e0c3b4b89",
   "metadata": {},
   "outputs": [],
   "source": [
    "# clean_table = unique_lawyers.drop(columns=['publication_type_group_id', 'publication_type_group_description'])\n",
    "# clean_table.head()"
   ]
  },
  {
   "cell_type": "code",
   "execution_count": 6,
   "id": "ebace63a-f380-4dd8-8daf-b18e94ead960",
   "metadata": {},
   "outputs": [
    {
     "data": {
      "text/plain": [
       "Lawyers       64299\n",
       "Barristers     5401\n",
       "Name: rowType, dtype: int64"
      ]
     },
     "execution_count": 6,
     "metadata": {},
     "output_type": "execute_result"
    }
   ],
   "source": [
    "unique_lawyers.rowType.value_counts()"
   ]
  },
  {
   "cell_type": "code",
   "execution_count": 7,
   "id": "3f61d7b2-5a59-4bb7-a7eb-ef1a47161df2",
   "metadata": {},
   "outputs": [],
   "source": [
    "# unique_lawyers.to_csv('../data/aug15-2022/people.csv') # A table for lawyers and barristers"
   ]
  }
 ],
 "metadata": {
  "kernelspec": {
   "display_name": "Python 3 (ipykernel)",
   "language": "python",
   "name": "python3"
  },
  "language_info": {
   "codemirror_mode": {
    "name": "ipython",
    "version": 3
   },
   "file_extension": ".py",
   "mimetype": "text/x-python",
   "name": "python",
   "nbconvert_exporter": "python",
   "pygments_lexer": "ipython3",
   "version": "3.9.12"
  }
 },
 "nbformat": 4,
 "nbformat_minor": 5
}
